{
  "nbformat": 4,
  "nbformat_minor": 0,
  "metadata": {
    "colab": {
      "provenance": []
    },
    "kernelspec": {
      "name": "python3",
      "display_name": "Python 3"
    },
    "language_info": {
      "name": "python"
    }
  },
  "cells": [
    {
      "cell_type": "markdown",
      "source": [
        "# **ETHImpulse Credit Score Prediction Model**"
      ],
      "metadata": {
        "id": "U8MLhMpp9DVZ"
      }
    },
    {
      "cell_type": "code",
      "source": [
        "# Install any required packages (if not already available in the Colab environment)\n",
        "# !pip install -U scikit-learn pandas numpy\n",
        "\n",
        "from sklearn.linear_model import LogisticRegression\n",
        "from sklearn.preprocessing import StandardScaler\n",
        "from sklearn.model_selection import train_test_split\n",
        "import pandas as pd\n",
        "import numpy as np"
      ],
      "metadata": {
        "id": "-Wh7qKcx8hKZ"
      },
      "execution_count": 15,
      "outputs": []
    },
    {
      "cell_type": "markdown",
      "source": [],
      "metadata": {
        "id": "U5UXAXuf9Cco"
      }
    },
    {
      "cell_type": "code",
      "source": [
        "class CreditScoreModel:\n",
        "    def __init__(self):\n",
        "        # Logistic Regression with increased iterations and 'saga' solver\n",
        "        self.model = LogisticRegression(max_iter=1000, solver='saga')\n",
        "        self.is_trained = False\n",
        "\n",
        "    def train_model(self, X, y):\n",
        "        \"\"\"\n",
        "        Train the credit score model.\n",
        "\n",
        "        Args:\n",
        "        - X (pd.DataFrame or np.array): Features dataframe or array.\n",
        "        - y (pd.Series): Target labels (creditworthy: 1 or 0).\n",
        "        \"\"\"\n",
        "        self.model.fit(X, y)\n",
        "        self.is_trained = True\n",
        "        print(\"Model trained successfully!\")\n",
        "\n",
        "    def predict(self, features):\n",
        "        \"\"\"\n",
        "        Predict creditworthiness using the trained model.\n",
        "\n",
        "        Args:\n",
        "        - features (pd.DataFrame or np.array): Feature data to predict on.\n",
        "\n",
        "        Returns:\n",
        "        - predictions (np.array): Predicted labels (1 for creditworthy, 0 otherwise).\n",
        "        - probabilities (np.array): Probability of being creditworthy.\n",
        "        \"\"\"\n",
        "        if not self.is_trained:\n",
        "            raise ValueError(\"The model is not trained. Call `train_model()` first.\")\n",
        "        predictions = self.model.predict(features)\n",
        "        probabilities = self.model.predict_proba(features)[:, 1]\n",
        "        return predictions, probabilities\n",
        "\n",
        "    def get_feature_importance(self, feature_names):\n",
        "        \"\"\"\n",
        "        Get feature importance based on the model coefficients.\n",
        "\n",
        "        Args:\n",
        "        - feature_names (list): List of feature names.\n",
        "\n",
        "        Returns:\n",
        "        - importance_df (pd.DataFrame): DataFrame with feature importance.\n",
        "        \"\"\"\n",
        "        if not self.is_trained:\n",
        "            raise ValueError(\"The model is not trained. Call `train_model()` first.\")\n",
        "        importance_df = pd.DataFrame({\n",
        "            \"Feature\": feature_names,\n",
        "            \"Coefficient\": self.model.coef_[0],\n",
        "        })\n",
        "        importance_df[\"Importance\"] = importance_df[\"Coefficient\"].abs()\n",
        "        return importance_df.sort_values(by=\"Importance\", ascending=False)"
      ],
      "metadata": {
        "id": "eEi5jHgp8nsq"
      },
      "execution_count": 16,
      "outputs": []
    },
    {
      "cell_type": "code",
      "source": [
        "# Generate synthetic data\n",
        "np.random.seed(42)\n",
        "data_size = 1000\n",
        "data = {\n",
        "    \"income\": np.random.normal(50000, 15000, data_size),\n",
        "    \"debt_to_income\": np.random.uniform(0.1, 0.8, data_size),\n",
        "    \"credit_utilization\": np.random.uniform(0.1, 0.9, data_size),\n",
        "    \"payment_history\": np.random.uniform(0.5, 1.0, data_size),\n",
        "    \"length_of_credit_history\": np.random.uniform(1, 30, data_size),\n",
        "}\n",
        "df = pd.DataFrame(data)\n",
        "df[\"creditworthy\"] = (\n",
        "    (0.3 * df[\"income\"] / 100000) +\n",
        "    (0.2 * (1 - df[\"debt_to_income\"])) +\n",
        "    (0.25 * (1 - df[\"credit_utilization\"])) +\n",
        "    (0.15 * df[\"payment_history\"]) +\n",
        "    (0.1 * df[\"length_of_credit_history\"] / 30)\n",
        ") > 0.7\n",
        "df[\"creditworthy\"] = df[\"creditworthy\"].astype(int)\n",
        "\n",
        "# Features and Target\n",
        "X = df[[\"income\", \"debt_to_income\", \"credit_utilization\", \"payment_history\", \"length_of_credit_history\"]]\n",
        "y = df[\"creditworthy\"]"
      ],
      "metadata": {
        "id": "Z8YXVaDn8paB"
      },
      "execution_count": 17,
      "outputs": []
    },
    {
      "cell_type": "code",
      "source": [
        "# Split data\n",
        "X_train, X_test, y_train, y_test = train_test_split(X, y, test_size=0.3, random_state=42)\n",
        "\n",
        "# Standardize the features\n",
        "scaler = StandardScaler()\n",
        "X_train_scaled = scaler.fit_transform(X_train)\n",
        "X_test_scaled = scaler.transform(X_test)"
      ],
      "metadata": {
        "id": "kDF1TiGg8rce"
      },
      "execution_count": 18,
      "outputs": []
    },
    {
      "cell_type": "code",
      "source": [
        "# Initialize and train the model\n",
        "model = CreditScoreModel()\n",
        "model.train_model(X_train_scaled, y_train)"
      ],
      "metadata": {
        "colab": {
          "base_uri": "https://localhost:8080/"
        },
        "id": "BdODr2yA8s3H",
        "outputId": "657fac41-740b-432b-fc0b-609828844553"
      },
      "execution_count": 19,
      "outputs": [
        {
          "output_type": "stream",
          "name": "stdout",
          "text": [
            "Model trained successfully!\n"
          ]
        }
      ]
    },
    {
      "cell_type": "code",
      "source": [
        "# Predictions\n",
        "predictions, probabilities = model.predict(X_test_scaled)\n",
        "\n",
        "# Feature importance\n",
        "feature_importance = model.get_feature_importance(X.columns)\n",
        "print(\"\\nFeature Importance:\\n\", feature_importance)"
      ],
      "metadata": {
        "colab": {
          "base_uri": "https://localhost:8080/"
        },
        "id": "XwTWJzA38uvM",
        "outputId": "ec9eacae-5783-49f3-e07c-4cff67c28d55"
      },
      "execution_count": 20,
      "outputs": [
        {
          "output_type": "stream",
          "name": "stdout",
          "text": [
            "\n",
            "Feature Importance:\n",
            "                     Feature  Coefficient  Importance\n",
            "2        credit_utilization    -2.719903    2.719903\n",
            "0                    income     2.432078    2.432078\n",
            "1            debt_to_income    -2.418196    2.418196\n",
            "4  length_of_credit_history     1.670255    1.670255\n",
            "3           payment_history     1.295397    1.295397\n"
          ]
        }
      ]
    },
    {
      "cell_type": "code",
      "source": [
        "# Example prediction for a new user\n",
        "new_user = pd.DataFrame({\n",
        "    \"income\": [60000],\n",
        "    \"debt_to_income\": [0.1],\n",
        "    \"credit_utilization\": [0.4],\n",
        "    \"payment_history\": [0.9],\n",
        "    \"length_of_credit_history\": [10],\n",
        "})\n",
        "\n",
        "# Scale the new user's data\n",
        "new_user_scaled = scaler.transform(new_user)\n",
        "\n",
        "# Predict for the new user\n",
        "pred, prob = model.predict(new_user_scaled)\n",
        "print(f\"\\nNew User Prediction: {pred[0]} (Probability: {prob[0]:.2f})\")"
      ],
      "metadata": {
        "colab": {
          "base_uri": "https://localhost:8080/"
        },
        "id": "nGPTulOY8wA7",
        "outputId": "bc295efe-2148-4e8d-fe94-2f062c80d290"
      },
      "execution_count": 21,
      "outputs": [
        {
          "output_type": "stream",
          "name": "stdout",
          "text": [
            "\n",
            "New User Prediction: 0 (Probability: 0.19)\n"
          ]
        }
      ]
    }
  ]
}